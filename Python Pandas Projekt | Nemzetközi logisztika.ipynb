{
 "cells": [
  {
   "cell_type": "markdown",
   "id": "166a210d",
   "metadata": {},
   "source": [
    "# Python Pandas Projekt | Nemzetközi logisztika\n",
    "---\n",
    "\n",
    "![](logistics.jpg)\n",
    "\n",
    "*Fotó: pixabay.com*\n",
    "\n",
    "---"
   ]
  },
  {
   "cell_type": "markdown",
   "id": "6d4c3442",
   "metadata": {},
   "source": [
    "##  1. Feladat – Az adatok beolvasása\n",
    "Az adatokat az `international_logistics_data.csv` fájlból olvassuk be egy Pandas DataFrame-be."
   ]
  },
  {
   "cell_type": "markdown",
   "id": "b864a847",
   "metadata": {},
   "source": [
    "### 1.1. Az adatok beolvasása a CSV fájlból egy Pandas adatkeretbe (DataFrame)\n",
    "Importáljuk a Pandas könyvtárat és használjuk az alias `as` elnevezést.\n",
    "\n",
    "Hozzunk létre egy változót, `il_data` néven. Érdemes egyszerű és jól megjegyezhető változó nevet választani.  \n",
    "\n",
    "Végül jelenítsük meg az adatokat."
   ]
  },
  {
   "cell_type": "code",
   "execution_count": null,
   "id": "2095293d",
   "metadata": {},
   "outputs": [],
   "source": [
    "import pandas as pd\n",
    "\n",
    "il_data = pd.read_csv(\"international_logistics_data.csv\")\n",
    "il_data"
   ]
  },
  {
   "cell_type": "markdown",
   "id": "b81a09f5",
   "metadata": {},
   "source": [
    "### 1.2. Az adatkeret első 5 sorának megjelenítése\n",
    "Az adatkeret első 5 sorának megjelenítéséhez a `head()` metódust kell alkalmaznunk."
   ]
  },
  {
   "cell_type": "code",
   "execution_count": null,
   "id": "d9132370",
   "metadata": {},
   "outputs": [],
   "source": [
    "il_data.head()"
   ]
  },
  {
   "cell_type": "markdown",
   "id": "38bdcf93",
   "metadata": {},
   "source": [
    "## 2. Feladat – Az alapinformációk megismerése\n",
    "\n",
    "- Az adatkeret (DataFrame) oszlopneveinek megjelenítése\n",
    "- Az oszlopok (columns) adattípusának megjelenítése\n",
    "- A rekordok vagy sorok (rows) számának megjelenítése"
   ]
  },
  {
   "cell_type": "markdown",
   "id": "696f988b",
   "metadata": {},
   "source": [
    "### 2.1. Az adatkeret oszlopneveinek megjelenítése\n",
    "Az adatkeret oszlopneveit a `columns`, vagyis az oszlop segítségével ismerhetjük meg. "
   ]
  },
  {
   "cell_type": "code",
   "execution_count": null,
   "id": "a8cd293e",
   "metadata": {},
   "outputs": [],
   "source": [
    "il_data.columns"
   ]
  },
  {
   "cell_type": "markdown",
   "id": "18068a39",
   "metadata": {},
   "source": [
    "    Index(['OrderID', 'Country', 'Product', 'Quantity', 'UnitPriceUSD',\n",
    "           'ShipmentMode', 'ShipmentDate'],\n",
    "          dtype='object')"
   ]
  },
  {
   "cell_type": "markdown",
   "id": "af4c2d9d",
   "metadata": {},
   "source": [
    "Az oszlopok nevei:\n",
    "- **OrderID** \n",
    "- **Country** \n",
    "- **Product**  \n",
    "- **Quantity**  \n",
    "- **UnitPriceUSD**   \n",
    "- **ShipmentMode**   \n",
    "- **ShipmentDate**   \n",
    "\n",
    "Az `OrderID`, a rendelési azonosító, a `Country`, az ország neve, a `Product`, a termék neve, a `Quantity`, a mennyiséget jelenti, az `UnitPriceUSD` az egységár USD-ben, a `ShipmentMode` a szállítás módja és a `ShipmentDate` a szállítás dátuma."
   ]
  },
  {
   "cell_type": "markdown",
   "id": "653dbdd0",
   "metadata": {},
   "source": [
    "### 2.2. Az oszlopok adattípusainak megjelenítése\n",
    "Az oszlopok adattípusait a `dtypes` segítségével jeleníthetjük meg."
   ]
  },
  {
   "cell_type": "code",
   "execution_count": null,
   "id": "1aae2a03",
   "metadata": {},
   "outputs": [],
   "source": [
    "il_data.dtypes"
   ]
  },
  {
   "cell_type": "markdown",
   "id": "f3063efe",
   "metadata": {},
   "source": [
    "A kimenet:  \n",
    "  \n",
    "    OrderID          int64\n",
    "    Country         object\n",
    "    Product         object\n",
    "    Quantity         int64\n",
    "    UnitPriceUSD     int64\n",
    "    ShipmentMode    object\n",
    "    ShipmentDate    object\n",
    "    dtype: object"
   ]
  },
  {
   "cell_type": "markdown",
   "id": "8938e5b9",
   "metadata": {},
   "source": [
    "### 2.3. A sorok számának megjelenítése\n",
    "A sorok számának megjelenítéséhez a Python `len()` metódusát alkalmazzuk."
   ]
  },
  {
   "cell_type": "code",
   "execution_count": null,
   "id": "2765e409",
   "metadata": {},
   "outputs": [],
   "source": [
    "len(il_data)"
   ]
  },
  {
   "cell_type": "markdown",
   "id": "c38f1cc6",
   "metadata": {},
   "source": [
    "Az adatkészletünkben 10 sor található. A számolás nullától (0) kezdődik és kilencig (9) tart. "
   ]
  },
  {
   "cell_type": "markdown",
   "id": "74aeafc5",
   "metadata": {},
   "source": [
    "## 3. Feladat – A teljes rendelési érték nevű oszlop létrehozása és kiszámítása\n",
    "Hozzunk lére egy új oszlopot, amelynek a neve **teljes rendelési érték**, vagyis `TotalValueUSD` lesz.\n",
    "\n",
    "A teljes rendelési érték a **mennyiség** `Quantity` és az **egységár USD-ben** `UnitPriceUSD` szorzata.\n",
    "\n",
    "> TotalValueUSD = Quantity * UnitPriceUSD"
   ]
  },
  {
   "cell_type": "markdown",
   "id": "11f9a753",
   "metadata": {},
   "source": [
    "### A `TotalValueUSD` új oszlop létrehozása, amely a `Quantity` és `UnitPriceUSD` szorzata"
   ]
  },
  {
   "cell_type": "code",
   "execution_count": null,
   "id": "25d52cee",
   "metadata": {},
   "outputs": [],
   "source": [
    "il_data[\"TotalValueUSD\"] = il_data[\"Quantity\"] * il_data[\"UnitPriceUSD\"]\n",
    "il_data.head()"
   ]
  },
  {
   "cell_type": "markdown",
   "id": "da41e374",
   "metadata": {},
   "source": [
    "## 4. Feladat – A szállítási módok gyakoriságának meghatározása\n",
    "A **szállítási módok**, vagyis `ShipmentMode` esetében az `Air`,levegőben a `Sea`, tengeren a `Rail`, vonaton és a `Truck`, kamionon történő szállítás szerepel a ShipmentMode oszlopban.\n",
    "\n",
    "Ahhoz, hogy meg tudjuk számolni a szállítási módokat a `value_counts()` metódust kell alkalmazni."
   ]
  },
  {
   "cell_type": "code",
   "execution_count": null,
   "id": "430a488d",
   "metadata": {},
   "outputs": [],
   "source": [
    "il_data[\"ShipmentMode\"].value_counts()"
   ]
  },
  {
   "cell_type": "markdown",
   "id": "c8216c6c",
   "metadata": {},
   "source": [
    "A kimenet:\n",
    "\n",
    "    ShipmentMode\n",
    "    Air      4\n",
    "    Sea      3\n",
    "    Rail     2\n",
    "    Truck    1\n",
    "    Name: count, dtype: int64"
   ]
  },
  {
   "cell_type": "markdown",
   "id": "11e5474d",
   "metadata": {},
   "source": [
    "## 5. Feladat – A legtöbb rendelést leadó ország meghatározása\n",
    "A legtöbb rendelést feladó ország meghatározásához a ``value_counts()`` és az ``idxmax()`` metódusokat kell alkalmazni. "
   ]
  },
  {
   "cell_type": "code",
   "execution_count": null,
   "id": "3fc3ca0e",
   "metadata": {},
   "outputs": [],
   "source": [
    "il_data[\"Country\"].value_counts().idxmax()"
   ]
  },
  {
   "cell_type": "markdown",
   "id": "7f6b4de8",
   "metadata": {},
   "source": [
    "A kimenet:    \n",
    "    \n",
    "    'Germany'"
   ]
  },
  {
   "cell_type": "markdown",
   "id": "6b1ee68e",
   "metadata": {},
   "source": [
    "Ha részletesebb adatokra vagyunk kiváncsiak, akkor azt a `value_counts()` metódus segítségével érhetjük el. "
   ]
  },
  {
   "cell_type": "code",
   "execution_count": null,
   "id": "e7440da6",
   "metadata": {},
   "outputs": [],
   "source": [
    "il_data[\"Country\"].value_counts()"
   ]
  },
  {
   "cell_type": "markdown",
   "id": "c8e84a7b",
   "metadata": {},
   "source": [
    "A kimenet:   \n",
    "   \n",
    "    Country\n",
    "    Germany    2\n",
    "    USA        2\n",
    "    China      2\n",
    "    France     2\n",
    "    Brazil     1\n",
    "    India      1\n",
    "    Name: count, dtype: int64"
   ]
  },
  {
   "cell_type": "markdown",
   "id": "bfd50633",
   "metadata": {},
   "source": [
    "## 6. Feladat – Az összes termék átlagos egységárának meghatározása\n",
    "Az összes termék átlagos egységárának kiszámításához a `mean()` metodust kell alkalmazni."
   ]
  },
  {
   "cell_type": "code",
   "execution_count": null,
   "id": "48f9de57",
   "metadata": {},
   "outputs": [],
   "source": [
    "il_data[\"UnitPriceUSD\"].mean()"
   ]
  },
  {
   "cell_type": "markdown",
   "id": "9515efec",
   "metadata": {},
   "source": [
    "## 7. Feladat – A teljes rendelési érték meghatározása országonként\n",
    "Az országonkénti teljes rendelési értéket a `groupby()` és a `sum()` metódusok segítségével tudjuk meghatározni.   "
   ]
  },
  {
   "cell_type": "code",
   "execution_count": null,
   "id": "21916286",
   "metadata": {},
   "outputs": [],
   "source": [
    "il_data.groupby(\"Country\")[\"TotalValueUSD\"].sum()"
   ]
  },
  {
   "cell_type": "markdown",
   "id": "1a3327d9",
   "metadata": {},
   "source": [
    "Az adatkeret alapján, országos összesítésben Németország vezet 1.425.000, ezt követi Kína 37.200 és az USA 30.000.\n",
    "\n",
    "A kimenet:\n",
    "\n",
    "    Country\n",
    "    Brazil        3000\n",
    "    China        37200\n",
    "    France        3850\n",
    "    Germany    1425000\n",
    "    India        15000\n",
    "    USA          30000\n",
    "    Name: TotalValueUSD, dtype: int64"
   ]
  },
  {
   "cell_type": "markdown",
   "id": "dabc3875",
   "metadata": {},
   "source": [
    "## 8. Feladat – A legnagyobb értékű rendelést leadó ország meghatározása\n",
    "Az `OrderID` alapján kell megkeresni azt az országot, amelynek a legmagasabb a `TotalValueUSD` értéke. \n",
    "\n",
    "Ehhez az `idxmax()` metódust kell alkalmazni."
   ]
  },
  {
   "cell_type": "code",
   "execution_count": null,
   "id": "d906affd",
   "metadata": {},
   "outputs": [],
   "source": [
    "il_data.loc[il_data[\"TotalValueUSD\"].idxmax()]"
   ]
  },
  {
   "cell_type": "markdown",
   "id": "837a6069",
   "metadata": {},
   "source": [
    "A kimenetben látható, hogy ez Németország.\n",
    "\n",
    "A kimenet:\n",
    "\n",
    "    OrderID                 1007\n",
    "    Country              Germany\n",
    "    Product          Automobiles\n",
    "    Quantity                  70\n",
    "    UnitPriceUSD           20000\n",
    "    ShipmentMode            Rail\n",
    "    ShipmentDate      2025-08-07\n",
    "    TotalValueUSD        1400000\n",
    "    Name: 6, dtype: object"
   ]
  },
  {
   "cell_type": "markdown",
   "id": "223adeef",
   "metadata": {},
   "source": [
    "## 9. Feladat – Az időbeli sorrend meghatározása\n",
    "A rendeléseket a `ShipmentDate` szerint növekvő sorrendbe kell rendezni.\n",
    "\n",
    "Ehhez a `sort_values()` metódust kell alkalmazni."
   ]
  },
  {
   "cell_type": "code",
   "execution_count": null,
   "id": "405a351e",
   "metadata": {},
   "outputs": [],
   "source": [
    "il_data.sort_values([\"ShipmentDate\"])"
   ]
  },
  {
   "cell_type": "markdown",
   "id": "6a58d305",
   "metadata": {},
   "source": [
    "## 10. Feladat – A termékek csoportosítása\n",
    "A rendeléseket kell csoportosítani termékenként és kiírni, hogy hány darabot `Quantity` rendeltek az egyes termékekből összesen.\n",
    "\n",
    "Ehhez a `groupby()` és a `sum()` metódus eggyüttes használata szükséges."
   ]
  },
  {
   "cell_type": "code",
   "execution_count": null,
   "id": "d6f0c2d1",
   "metadata": {},
   "outputs": [],
   "source": [
    "il_data.groupby(\"Product\")[\"Quantity\"].sum()"
   ]
  },
  {
   "cell_type": "markdown",
   "id": "891ff50b",
   "metadata": {},
   "source": [
    "A kimenet:    \n",
    "    \n",
    "    Product\n",
    "    Automobiles         70\n",
    "    Cheese              90\n",
    "    Clothing           100\n",
    "    Coffee             200\n",
    "    Electronics        110\n",
    "    Machinery           30\n",
    "    Pharmaceuticals    150\n",
    "    Textiles           120\n",
    "    Wine                80\n",
    "    Name: Quantity, dtype: int64"
   ]
  },
  {
   "cell_type": "markdown",
   "id": "5b7c3888",
   "metadata": {},
   "source": [
    "---"
   ]
  },
  {
   "cell_type": "code",
   "execution_count": null,
   "id": "7ba1aa18",
   "metadata": {},
   "outputs": [],
   "source": []
  }
 ],
 "metadata": {
  "kernelspec": {
   "display_name": "Python 3 (ipykernel)",
   "language": "python",
   "name": "python3"
  },
  "language_info": {
   "codemirror_mode": {
    "name": "ipython",
    "version": 3
   },
   "file_extension": ".py",
   "mimetype": "text/x-python",
   "name": "python",
   "nbconvert_exporter": "python",
   "pygments_lexer": "ipython3",
   "version": "3.11.2"
  }
 },
 "nbformat": 4,
 "nbformat_minor": 5
}
